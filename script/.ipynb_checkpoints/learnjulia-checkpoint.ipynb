{
 "cells": [
  {
   "cell_type": "code",
   "execution_count": 1,
   "metadata": {},
   "outputs": [],
   "source": [
    "using CSV"
   ]
  },
  {
   "cell_type": "code",
   "execution_count": 2,
   "metadata": {},
   "outputs": [
    {
     "name": "stdout",
     "output_type": "stream",
     "text": [
      "hallo dunia\n"
     ]
    }
   ],
   "source": [
    "println(\"hallo dunia\")"
   ]
  },
  {
   "cell_type": "code",
   "execution_count": 4,
   "metadata": {},
   "outputs": [
    {
     "name": "stderr",
     "output_type": "stream",
     "text": [
      "\u001b[32m\u001b[1m   Updating\u001b[22m\u001b[39m registry at `~/.julia/registries/General`\n"
     ]
    },
    {
     "name": "stdout",
     "output_type": "stream",
     "text": [
      "\u001b[?25l\u001b[2K"
     ]
    },
    {
     "name": "stderr",
     "output_type": "stream",
     "text": [
      "\u001b[32m\u001b[1m   Updating\u001b[22m\u001b[39m git-repo `https://github.com/JuliaRegistries/General.git`\n"
     ]
    },
    {
     "name": "stdout",
     "output_type": "stream",
     "text": [
      "\u001b[?25h"
     ]
    },
    {
     "name": "stderr",
     "output_type": "stream",
     "text": [
      "\u001b[32m\u001b[1m  Resolving\u001b[22m\u001b[39m package versions...\n",
      "\u001b[32m\u001b[1m   Updating\u001b[22m\u001b[39m `~/.julia/environments/v1.4/Project.toml`\n",
      " \u001b[90m [8f4d0f93]\u001b[39m\u001b[92m + Conda v1.4.1\u001b[39m\n",
      "\u001b[32m\u001b[1m   Updating\u001b[22m\u001b[39m `~/.julia/environments/v1.4/Manifest.toml`\n",
      "\u001b[90m [no changes]\u001b[39m\n"
     ]
    }
   ],
   "source": [
    "using Pkg\n",
    "Pkg.add(\"Conda\")"
   ]
  },
  {
   "cell_type": "code",
   "execution_count": 5,
   "metadata": {},
   "outputs": [
    {
     "name": "stderr",
     "output_type": "stream",
     "text": [
      "┌ Info: Running `conda install -y elasticsearch` in root environment\n",
      "└ @ Conda /Users/ujangfahmi/.julia/packages/Conda/3rPhK/src/Conda.jl:113\n"
     ]
    },
    {
     "name": "stdout",
     "output_type": "stream",
     "text": [
      "Collecting package metadata (current_repodata.json): ...working... done\n",
      "Solving environment: ...working... done\n",
      "\n",
      "## Package Plan ##\n",
      "\n",
      "  environment location: /Users/ujangfahmi/.julia/conda/3\n",
      "\n",
      "  added / updated specs:\n",
      "    - elasticsearch\n",
      "\n",
      "\n",
      "The following packages will be downloaded:\n",
      "\n",
      "    package                    |            build\n",
      "    ---------------------------|-----------------\n",
      "    elasticsearch-7.0.4        |             py_0          62 KB\n",
      "    ------------------------------------------------------------\n",
      "                                           Total:          62 KB\n",
      "\n",
      "The following NEW packages will be INSTALLED:\n",
      "\n",
      "  elasticsearch      pkgs/main/noarch::elasticsearch-7.0.4-py_0\n",
      "\n",
      "\n",
      "\n",
      "Downloading and Extracting Packages\n",
      "elasticsearch-7.0.4  | 62 KB     | ########## | 100% \n",
      "Preparing transaction: ...working... done\n",
      "Verifying transaction: ...working... done\n",
      "Executing transaction: ...working... done\n"
     ]
    }
   ],
   "source": [
    "using Conda\n",
    "Conda.add(\"elasticsearch\")"
   ]
  },
  {
   "cell_type": "code",
   "execution_count": 7,
   "metadata": {},
   "outputs": [
    {
     "name": "stderr",
     "output_type": "stream",
     "text": [
      "\u001b[32m\u001b[1m  Resolving\u001b[22m\u001b[39m package versions...\n",
      "\u001b[32m\u001b[1m   Updating\u001b[22m\u001b[39m `~/.julia/environments/v1.4/Project.toml`\n",
      "\u001b[90m [no changes]\u001b[39m\n",
      "\u001b[32m\u001b[1m   Updating\u001b[22m\u001b[39m `~/.julia/environments/v1.4/Manifest.toml`\n",
      "\u001b[90m [no changes]\u001b[39m\n"
     ]
    }
   ],
   "source": [
    "Pkg.add(\"PyCall\")"
   ]
  },
  {
   "cell_type": "code",
   "execution_count": 17,
   "metadata": {},
   "outputs": [
    {
     "data": {
      "text/plain": [
       "Dict{Any,Any} with 5 entries:\n",
       "  \"name\"         => \"73a35b2900597729a7ea2332d585541e\"\n",
       "  \"tagline\"      => \"You Know, for Search\"\n",
       "  \"cluster_uuid\" => \"RwISo_f1T6KktmSc79IYkw\"\n",
       "  \"cluster_name\" => \"694026724476:socmed\"\n",
       "  \"version\"      => Dict{Any,Any}(\"build_flavor\"=>\"oss\",\"number\"=>\"7.1.1\",\"luce…"
      ]
     },
     "execution_count": 17,
     "metadata": {},
     "output_type": "execute_result"
    }
   ],
   "source": [
    "# loading module and getting connection\n",
    "using PyCall\n",
    "elasticsearch = pyimport(\"elasticsearch\")\n",
    "es = elasticsearch.Elasticsearch(\"https://search-socmed-vqog764djqh2mc3lzrfscki3au.ap-southeast-1.es.amazonaws.com:443\")"
   ]
  },
  {
   "cell_type": "code",
   "execution_count": 27,
   "metadata": {},
   "outputs": [
    {
     "data": {
      "text/plain": [
       "10-element Array{Dict{Any,Any},1}:\n",
       " Dict(\"_id\" => \"1232133887607754753\",\"_score\" => 5.7894974,\"_index\" => \"twitter\",\"_type\" => \"_doc\",\"_source\" => Dict{Any,Any}(\"geo\" => \"\",\"created_at\" => \"2020-02-25 02:43\",\"user_screen_name\" => \"ceeel 🧕🏻\",\"user_created_at\" => \"5:56 AM - 26 Dec 2019\",\"text_sentiment\" => \"neutral\",\"potensial_reach\" => 4,\"retweet_count\" => 0,\"entities_user_mentions\" => \"@jokowi @jokowi @jokowi\",\"tweet_id\" => \"1232133887607754753\",\"user_followers_count\" => 4…))\n",
       " Dict(\"_id\" => \"1247331393392136192\",\"_score\" => 5.740859,\"_index\" => \"twitter\",\"_type\" => \"_doc\",\"_source\" => Dict{Any,Any}(\"geo\" => \"\",\"created_at\" => \"2020-04-07 01:12\",\"user_screen_name\" => \"Mashudi KA.\",\"user_created_at\" => nothing,\"text_sentiment\" => \"positive\",\"potensial_reach\" => 3,\"retweet_count\" => 1,\"entities_user_mentions\" => \"@jokowi @jokowi @jokowi @jokowi @jokowi @jokowi @jokowi @jokowi @jokowi @jokowi @jokowi @jokowi @perekonomianri @Kemendag @agussuparmanto_ @A_Suparmanto\",\"tweet_id\" => \"1247331393392136192\",\"user_followers_count\" => 0…))\n",
       " Dict(\"_id\" => \"1227839629425950720\",\"_score\" => 5.5901637,\"_index\" => \"twitter\",\"_type\" => \"_doc\",\"_source\" => Dict{Any,Any}(\"geo\" => \"\",\"created_at\" => \"2020-02-13 13:19\",\"user_screen_name\" => \"Zara\",\"user_created_at\" => \"08.53 - 25 Jun 2009\",\"text_sentiment\" => \"positive\",\"potensial_reach\" => 252847,\"retweet_count\" => 8,\"entities_user_mentions\" => \"\",\"tweet_id\" => \"1227839629425950720\",\"user_followers_count\" => 252776…))\n",
       " Dict(\"_id\" => \"1244863710474072065\",\"_score\" => 5.5536838,\"_index\" => \"twitter\",\"_type\" => \"_doc\",\"_source\" => Dict{Any,Any}(\"geo\" => \"\",\"created_at\" => \"2020-03-31 05:46\",\"user_screen_name\" => \"Keringat Gunung\",\"user_created_at\" => \"2:47 AM - 7 Dec 2019\",\"text_sentiment\" => \"negative\",\"potensial_reach\" => 19,\"retweet_count\" => 0,\"entities_user_mentions\" => \"@jokowi @jokowi @jokowi @jokowi @jokowi @jokowi @jokowi @jokowi\",\"tweet_id\" => \"1244863710474072065\",\"user_followers_count\" => 18…))\n",
       " Dict(\"_id\" => \"1249542953367789574\",\"_score\" => 5.5294523,\"_index\" => \"twitter\",\"_type\" => \"_doc\",\"_source\" => Dict{Any,Any}(\"geo\" => \"\",\"created_at\" => \"2020-04-13 03:40\",\"user_screen_name\" => \"jokowi_sinting\",\"user_created_at\" => nothing,\"text_sentiment\" => \"positive\",\"potensial_reach\" => 3,\"retweet_count\" => 0,\"entities_user_mentions\" => \"@jokowi\",\"tweet_id\" => \"1249542953367789574\",\"user_followers_count\" => 0…))\n",
       " Dict(\"_id\" => \"1111103518633418757\",\"_score\" => 5.4712176,\"_index\" => \"twitter\",\"_type\" => \"_doc\",\"_source\" => Dict{Any,Any}(\"geo\" => \"\",\"created_at\" => \"2019-03-28 03:11\",\"user_screen_name\" => \"dutaMerlin\",\"user_created_at\" => \"4:53 AM - 14 Jun 2015\",\"text_sentiment\" => \"neutral\",\"potensial_reach\" => 383,\"retweet_count\" => 1,\"entities_user_mentions\" => \"\",\"tweet_id\" => \"1111103518633418757\",\"user_followers_count\" => 381…))\n",
       " Dict(\"_id\" => \"1277764671328514054\",\"_score\" => 5.318187,\"_index\" => \"twitter\",\"_type\" => \"_doc\",\"_source\" => Dict{Any,Any}(\"geo\" => \"\",\"created_at\" => \"2020-06-30 00:43\",\"user_screen_name\" => \"Kompasiana\",\"user_created_at\" => nothing,\"text_sentiment\" => \"negative\",\"potensial_reach\" => 4,\"retweet_count\" => 1,\"entities_user_mentions\" => \"\",\"tweet_id\" => \"1277764671328514054\",\"user_followers_count\" => 0…))\n",
       " Dict(\"_id\" => \"1247360064488222723\",\"_score\" => 5.314568,\"_index\" => \"twitter\",\"_type\" => \"_doc\",\"_source\" => Dict{Any,Any}(\"geo\" => \"\",\"created_at\" => \"2020-04-07 03:06\",\"user_screen_name\" => \"Fery\",\"user_created_at\" => nothing,\"text_sentiment\" => \"neutral\",\"potensial_reach\" => 0,\"retweet_count\" => 0,\"entities_user_mentions\" => \"@jokowi\",\"tweet_id\" => \"1247360064488222723\",\"user_followers_count\" => 0…))\n",
       " Dict(\"_id\" => \"1247417600172154885\",\"_score\" => 5.264984,\"_index\" => \"twitter\",\"_type\" => \"_doc\",\"_source\" => Dict{Any,Any}(\"geo\" => \"\",\"created_at\" => \"2020-04-07 06:55\",\"user_screen_name\" => \"Fad\",\"user_created_at\" => nothing,\"text_sentiment\" => \"neutral\",\"potensial_reach\" => 0,\"retweet_count\" => 0,\"entities_user_mentions\" => \"@jokowi\",\"tweet_id\" => \"1247417600172154885\",\"user_followers_count\" => 0…))\n",
       " Dict(\"_id\" => \"1248404328487911426\",\"_score\" => 5.255379,\"_index\" => \"twitter\",\"_type\" => \"_doc\",\"_source\" => Dict{Any,Any}(\"geo\" => \"\",\"created_at\" => \"2020-04-10 00:16\",\"user_screen_name\" => \"ANDINI MAHARANI, SH, SIP\",\"user_created_at\" => \"6:29 AM - 9 Jan 2020\",\"text_sentiment\" => \"neutral\",\"potensial_reach\" => 10850,\"retweet_count\" => 0,\"entities_user_mentions\" => \"\",\"tweet_id\" => \"1248404328487911426\",\"user_followers_count\" => 10845…))"
      ]
     },
     "execution_count": 27,
     "metadata": {},
     "output_type": "execute_result"
    }
   ],
   "source": [
    "q1 = Dict(\"query\"=>Dict(\"match\"=>Dict(\"full_text\"=>Dict(\"query\"=>\"jokowi\"))))\n",
    "t1 = es.search(\"twitter\", body=q1)[\"hits\"][\"hits\"]"
   ]
  },
  {
   "cell_type": "code",
   "execution_count": 1,
   "metadata": {},
   "outputs": [
    {
     "data": {
      "text/plain": [
       "10000000-element Array{Float64,1}:\n",
       " 0.04132661379638436\n",
       " 0.4484316236862511\n",
       " 0.03905976359539087\n",
       " 0.7695516029572718\n",
       " 0.036006102916397165\n",
       " 0.1752430703082677\n",
       " 0.748814234654418\n",
       " 0.005995202848990244\n",
       " 0.17625908773406285\n",
       " 0.5888055328187702\n",
       " 0.9456484210151515\n",
       " 0.009139846349673242\n",
       " 0.3277850703716667\n",
       " ⋮\n",
       " 0.7242662582000168\n",
       " 0.0930862455518886\n",
       " 0.28088752589207644\n",
       " 0.27126187014146863\n",
       " 0.3292330493279667\n",
       " 0.8645383397052435\n",
       " 0.8776805674618477\n",
       " 0.08195820813441279\n",
       " 0.04103627970411905\n",
       " 0.2927606948046253\n",
       " 0.030725657291151398\n",
       " 0.726768181919194"
      ]
     },
     "execution_count": 1,
     "metadata": {},
     "output_type": "execute_result"
    }
   ],
   "source": [
    "a = rand(10^7)"
   ]
  },
  {
   "cell_type": "code",
   "execution_count": 2,
   "metadata": {},
   "outputs": [
    {
     "data": {
      "text/plain": [
       "5.000392516869792e6"
      ]
     },
     "execution_count": 2,
     "metadata": {},
     "output_type": "execute_result"
    }
   ],
   "source": [
    "sum(a)"
   ]
  },
  {
   "cell_type": "code",
   "execution_count": 3,
   "metadata": {},
   "outputs": [
    {
     "name": "stderr",
     "output_type": "stream",
     "text": [
      "\u001b[32m\u001b[1m   Updating\u001b[22m\u001b[39m registry at `~/.julia/registries/General`\n"
     ]
    },
    {
     "name": "stdout",
     "output_type": "stream",
     "text": [
      "\u001b[?25l    "
     ]
    },
    {
     "name": "stderr",
     "output_type": "stream",
     "text": [
      "\u001b[32m\u001b[1m   Updating\u001b[22m\u001b[39m git-repo `https://github.com/JuliaRegistries/General.git`\n"
     ]
    },
    {
     "name": "stdout",
     "output_type": "stream",
     "text": [
      "\u001b[2K\u001b[?25h[1mFetching:\u001b[22m\u001b[39m [========================================>]  100.0 %[36m\u001b[1mFetching:\u001b[22m\u001b[39m [=====>                                   ]  11.9 %>                            ]  29.3 %\u001b[36m\u001b[1mFetching:\u001b[22m\u001b[39m [===================>                     ]  46.9 %\u001b[36m\u001b[1mFetching:\u001b[22m\u001b[39m [========================>                ]  59.7 %\u001b[36m\u001b[1mFetching:\u001b[22m\u001b[39m [===========================>             ]  65.5 %>  ]  93.3 %"
     ]
    },
    {
     "ename": "Pkg.Types.PkgError",
     "evalue": "The following package names could not be resolved:\n * BenchmarkTolls (not found in project, manifest or registry)\n",
     "output_type": "error",
     "traceback": [
      "The following package names could not be resolved:\n * BenchmarkTolls (not found in project, manifest or registry)\n",
      "",
      "Stacktrace:",
      " [1] pkgerror(::String) at /Users/julia/buildbot/worker/package_macos64/build/usr/share/julia/stdlib/v1.4/Pkg/src/Types.jl:53",
      " [2] ensure_resolved(::Pkg.Types.Context, ::Array{Pkg.Types.PackageSpec,1}; registry::Bool) at /Users/julia/buildbot/worker/package_macos64/build/usr/share/julia/stdlib/v1.4/Pkg/src/Types.jl:802",
      " [3] add(::Pkg.Types.Context, ::Array{Pkg.Types.PackageSpec,1}; preserve::Pkg.Types.PreserveLevel, platform::Pkg.BinaryPlatforms.MacOS, kwargs::Base.Iterators.Pairs{Union{},Union{},Tuple{},NamedTuple{(),Tuple{}}}) at /Users/julia/buildbot/worker/package_macos64/build/usr/share/julia/stdlib/v1.4/Pkg/src/API.jl:148",
      " [4] add(::Pkg.Types.Context, ::Array{Pkg.Types.PackageSpec,1}) at /Users/julia/buildbot/worker/package_macos64/build/usr/share/julia/stdlib/v1.4/Pkg/src/API.jl:112",
      " [5] #add#27 at /Users/julia/buildbot/worker/package_macos64/build/usr/share/julia/stdlib/v1.4/Pkg/src/API.jl:109 [inlined]",
      " [6] add at /Users/julia/buildbot/worker/package_macos64/build/usr/share/julia/stdlib/v1.4/Pkg/src/API.jl:109 [inlined]",
      " [7] #add#24 at /Users/julia/buildbot/worker/package_macos64/build/usr/share/julia/stdlib/v1.4/Pkg/src/API.jl:107 [inlined]",
      " [8] add at /Users/julia/buildbot/worker/package_macos64/build/usr/share/julia/stdlib/v1.4/Pkg/src/API.jl:107 [inlined]",
      " [9] add(::String; kwargs::Base.Iterators.Pairs{Union{},Union{},Tuple{},NamedTuple{(),Tuple{}}}) at /Users/julia/buildbot/worker/package_macos64/build/usr/share/julia/stdlib/v1.4/Pkg/src/API.jl:106",
      " [10] add(::String) at /Users/julia/buildbot/worker/package_macos64/build/usr/share/julia/stdlib/v1.4/Pkg/src/API.jl:106",
      " [11] top-level scope at In[3]:2"
     ]
    }
   ],
   "source": [
    "using Pkg;\n",
    "Pkg.add(\"BenchmarkTolls\")"
   ]
  },
  {
   "cell_type": "code",
   "execution_count": null,
   "metadata": {},
   "outputs": [],
   "source": []
  }
 ],
 "metadata": {
  "kernelspec": {
   "display_name": "Julia 1.4.2",
   "language": "julia",
   "name": "julia-1.4"
  },
  "language_info": {
   "file_extension": ".jl",
   "mimetype": "application/julia",
   "name": "julia",
   "version": "1.4.2"
  }
 },
 "nbformat": 4,
 "nbformat_minor": 2
}
